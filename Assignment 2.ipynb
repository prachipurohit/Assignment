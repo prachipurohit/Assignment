{
 "cells": [
  {
   "cell_type": "code",
   "execution_count": 1,
   "metadata": {},
   "outputs": [],
   "source": [
    "#Task 1"
   ]
  },
  {
   "cell_type": "code",
   "execution_count": 2,
   "metadata": {},
   "outputs": [],
   "source": [
    "#Question 1.1\n",
    "\n",
    "def my_reduce(function,li):\n",
    "    if type(li[0]) == int:\n",
    "        result=0\n",
    "    elif type(li[0]) == str:\n",
    "        result = \" \"\n",
    "    else:\n",
    "        result = 0.0\n",
    "    for i in li:\n",
    "        result = function(result,i)\n",
    "    return result"
   ]
  },
  {
   "cell_type": "code",
   "execution_count": 3,
   "metadata": {},
   "outputs": [],
   "source": [
    "#Question 1.2\n",
    "\n",
    "def my_filter(function,li):\n",
    "    my_list=[]\n",
    "    for i in li:\n",
    "        if function(i) == True:\n",
    "           my_list.append(i)\n",
    "    return my_list"
   ]
  },
  {
   "cell_type": "code",
   "execution_count": 4,
   "metadata": {},
   "outputs": [
    {
     "data": {
      "text/plain": [
       "['A', 'C', 'A', 'D', 'G', 'L', 'I', 'D']"
      ]
     },
     "execution_count": 4,
     "metadata": {},
     "output_type": "execute_result"
    }
   ],
   "source": [
    "#Question 2\n",
    "\n",
    "string = \"acadglid\"\n",
    "list_first = [string[i].upper() for i in range(len(string))]\n",
    "list_first"
   ]
  },
  {
   "cell_type": "code",
   "execution_count": 5,
   "metadata": {},
   "outputs": [
    {
     "data": {
      "text/plain": [
       "['x', 'xx', 'xxx', 'xxxx', 'y', 'yy', 'yyy', 'yyyy', 'z', 'zz', 'zzz', 'zzzz']"
      ]
     },
     "execution_count": 5,
     "metadata": {},
     "output_type": "execute_result"
    }
   ],
   "source": [
    "li = ['x','y','z']\n",
    "list_second = [ li[i]*j for i in range(len(li)) for j in range(1,5)]\n",
    "list_second"
   ]
  },
  {
   "cell_type": "code",
   "execution_count": 6,
   "metadata": {},
   "outputs": [
    {
     "data": {
      "text/plain": [
       "['x', 'y', 'z', 'xx', 'yy', 'zz', 'xxx', 'yyy', 'zzz', 'xxxx', 'yyyy', 'zzzz']"
      ]
     },
     "execution_count": 6,
     "metadata": {},
     "output_type": "execute_result"
    }
   ],
   "source": [
    "li = ['x','y','z']\n",
    "list_third = [ li[i]*j for j in range(1,5) for i in range(len(li))]\n",
    "list_third"
   ]
  },
  {
   "cell_type": "code",
   "execution_count": 7,
   "metadata": {},
   "outputs": [
    {
     "data": {
      "text/plain": [
       "[[2], [3], [4], [3], [4], [5], [4], [5], [6]]"
      ]
     },
     "execution_count": 7,
     "metadata": {},
     "output_type": "execute_result"
    }
   ],
   "source": [
    "li = [2,3,4]\n",
    "list_fourth = [[j] for i in li for j in range(i,i+3)]\n",
    "list_fourth"
   ]
  },
  {
   "cell_type": "code",
   "execution_count": 8,
   "metadata": {},
   "outputs": [
    {
     "data": {
      "text/plain": [
       "[[2, 3, 4, 5], [3, 4, 5, 6], [4, 5, 6, 7], [5, 6, 7, 8]]"
      ]
     },
     "execution_count": 8,
     "metadata": {},
     "output_type": "execute_result"
    }
   ],
   "source": [
    "li = [2,3,4,5]\n",
    "list_fifth = [ [j for j in range(i,i+4)] for i in li ] \n",
    "list_fifth"
   ]
  },
  {
   "cell_type": "code",
   "execution_count": 9,
   "metadata": {},
   "outputs": [
    {
     "data": {
      "text/plain": [
       "[(1, 1), (2, 1), (3, 1), (1, 2), (2, 2), (3, 2), (1, 3), (2, 3), (3, 3)]"
      ]
     },
     "execution_count": 9,
     "metadata": {},
     "output_type": "execute_result"
    }
   ],
   "source": [
    "list_sixth = [ (j,i) for i in range(1,4) for j in range(1,4)]\n",
    "list_sixth"
   ]
  },
  {
   "cell_type": "code",
   "execution_count": 10,
   "metadata": {},
   "outputs": [
    {
     "name": "stdout",
     "output_type": "stream",
     "text": [
      "abcd\n"
     ]
    }
   ],
   "source": [
    "# Question 3\n",
    "\n",
    "li = ['a','abc','abcd','abc','b']\n",
    "max_len = -1\n",
    "string = \"\"\n",
    "for i in li:\n",
    "    if len(i) > max_len:\n",
    "        max_len = len(i)\n",
    "        string = i\n",
    "print(string)"
   ]
  },
  {
   "cell_type": "code",
   "execution_count": 11,
   "metadata": {},
   "outputs": [],
   "source": [
    "# Task 2"
   ]
  },
  {
   "cell_type": "code",
   "execution_count": 33,
   "metadata": {},
   "outputs": [
    {
     "name": "stdout",
     "output_type": "stream",
     "text": [
      "Enter  first side :2\n",
      "Enter  second side :3\n",
      "Enter  third side :4\n",
      "Area of triangle : 2.9047375096555625\n"
     ]
    }
   ],
   "source": [
    "# Question 1.1\n",
    "\n",
    "class Input:\n",
    "    def __init__(self,a,b,c):\n",
    "        self.a=a\n",
    "        self.b=b\n",
    "        self.c=c\n",
    "       \n",
    "class Area(Input):\n",
    "    def __init__(self,a,b,c):\n",
    "        super().__init__(a,b,c)\n",
    "        \n",
    "    def calculate_area(self):\n",
    "        s = (self.a+self.b+self.c)/2\n",
    "        area = (s*(s-self.a)*(s-self.b)*(s-self.c)) ** 0.5 \n",
    "        return area\n",
    "\n",
    "# User Input\n",
    "a=float(input(\"Enter  first side :\"))\n",
    "b=float(input(\"Enter  second side :\"))\n",
    "c=float(input(\"Enter  third side :\"))\n",
    "obj2 = Area(a,b,c)\n",
    "print(\"Area of triangle :\",obj2.calculate_area())"
   ]
  },
  {
   "cell_type": "code",
   "execution_count": 15,
   "metadata": {},
   "outputs": [
    {
     "name": "stdout",
     "output_type": "stream",
     "text": [
      "['abc', 'abcd', 'wxyz']\n"
     ]
    }
   ],
   "source": [
    "# Question 1.2\n",
    "\n",
    "def filter_long_words(li,n):\n",
    "    new_li = []\n",
    "    for i in li:\n",
    "        if len(i) > n:\n",
    "            new_li.append(i)\n",
    "    return new_li\n",
    "\n",
    "print(filter_long_words(['aa','abc','abcd','w','wxyz'],2))"
   ]
  },
  {
   "cell_type": "code",
   "execution_count": 14,
   "metadata": {},
   "outputs": [
    {
     "name": "stdout",
     "output_type": "stream",
     "text": [
      "[2, 3, 4]\n"
     ]
    }
   ],
   "source": [
    "# Question 2.1\n",
    "\n",
    "def word_len(a):\n",
    "    return len(a) \n",
    "\n",
    "x = map(word_len,['ab','cdw','erty'])\n",
    "print(list(x))"
   ]
  },
  {
   "cell_type": "code",
   "execution_count": 13,
   "metadata": {},
   "outputs": [
    {
     "name": "stdout",
     "output_type": "stream",
     "text": [
      "False\n",
      "True\n"
     ]
    }
   ],
   "source": [
    "# Question 2.2\n",
    "\n",
    "def isvowel(a):\n",
    "    vowel = ['a','e','i','o','u']\n",
    "    if(a in vowel):\n",
    "        return True\n",
    "    else:\n",
    "        return False\n",
    "\n",
    "print(isvowel('r'))\n",
    "print(isvowel('a'))"
   ]
  }
 ],
 "metadata": {
  "kernelspec": {
   "display_name": "Python 3",
   "language": "python",
   "name": "python3"
  },
  "language_info": {
   "codemirror_mode": {
    "name": "ipython",
    "version": 3
   },
   "file_extension": ".py",
   "mimetype": "text/x-python",
   "name": "python",
   "nbconvert_exporter": "python",
   "pygments_lexer": "ipython3",
   "version": "3.7.1"
  }
 },
 "nbformat": 4,
 "nbformat_minor": 2
}
