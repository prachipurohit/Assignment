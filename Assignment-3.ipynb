{
 "cells": [
  {
   "cell_type": "markdown",
   "metadata": {},
   "source": [
    "Task 1"
   ]
  },
  {
   "cell_type": "code",
   "execution_count": 25,
   "metadata": {},
   "outputs": [
    {
     "name": "stdout",
     "output_type": "stream",
     "text": [
      "You cannot divide number by zero!\n",
      "division by zero\n",
      "Either of the Exception will get printed\n"
     ]
    }
   ],
   "source": [
    "# Question 1\n",
    "\n",
    "def my_division():\n",
    "    try:\n",
    "        result = 5/0          #Given Condition \n",
    "        print(str(result))\n",
    "    except Exception as e:    #\n",
    "        print(\"You cannot divide number by zero!\")\n",
    "        print(e)\n",
    "    except ZeroDivisionError:\n",
    "        print(\"Zero not divisible by any number!\")\n",
    "    finally:\n",
    "        print(\"Either of the Exception will get printed\")\n",
    "        \n",
    "# Calling the function\n",
    "my_division()"
   ]
  },
  {
   "cell_type": "code",
   "execution_count": 4,
   "metadata": {},
   "outputs": [
    {
     "name": "stdout",
     "output_type": "stream",
     "text": [
      "Americans play Baseball.\n",
      "Americans play Cricket.\n",
      "Americans watch Baseball.\n",
      "Americans watch Cricket.\n",
      "Indians play Baseball.\n",
      "Indians play Cricket.\n",
      "Indians watch Baseball.\n",
      "Indians watch Cricket.\n"
     ]
    }
   ],
   "source": [
    "# Question 2\n",
    "\n",
    "subjects = [\"Americans\",\"Indians\"]\n",
    "verbs    = [\"play\",\"watch\"]\n",
    "objects  = [\"Baseball\",\"Cricket\"]\n",
    "\n",
    "for i in subjects:\n",
    "    for j in verbs:\n",
    "        for k in objects:\n",
    "            print(i+\" \"+j+\" \"+k+\".\")"
   ]
  },
  {
   "cell_type": "markdown",
   "metadata": {},
   "source": [
    "Task 2"
   ]
  },
  {
   "cell_type": "code",
   "execution_count": 11,
   "metadata": {},
   "outputs": [
    {
     "name": "stdout",
     "output_type": "stream",
     "text": [
      "1 1 1 1 \n",
      "8 4 2 1 \n",
      "27 9 3 1 \n",
      "64 16 4 1 \n"
     ]
    }
   ],
   "source": [
    "#Question 1\n",
    "\n",
    "def my_matrix(li):\n",
    "    new_list=[]\n",
    "    for i in li:\n",
    "        k=len(li)-1\n",
    "        for j in range(len(li)):\n",
    "            print(i**k,end=\" \")\n",
    "            k=k-1\n",
    "        print()\n",
    "        \n",
    "\n",
    "#Input to function\n",
    "li=[1,2,3,4]\n",
    "my_matrix(li)"
   ]
  }
 ],
 "metadata": {
  "kernelspec": {
   "display_name": "Python 3",
   "language": "python",
   "name": "python3"
  },
  "language_info": {
   "codemirror_mode": {
    "name": "ipython",
    "version": 3
   },
   "file_extension": ".py",
   "mimetype": "text/x-python",
   "name": "python",
   "nbconvert_exporter": "python",
   "pygments_lexer": "ipython3",
   "version": "3.7.1"
  }
 },
 "nbformat": 4,
 "nbformat_minor": 2
}
